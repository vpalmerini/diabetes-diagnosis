{
 "cells": [
  {
   "cell_type": "markdown",
   "metadata": {},
   "source": [
    "-- Modelo Conceitual\n",
    "\n",
    "\n",
    "![](img/ModeloConceitual.png)"
   ]
  },
  {
   "cell_type": "markdown",
   "metadata": {},
   "source": [
    "-- Modelo Lógico\n",
    "\n",
    "\n",
    "![](img/ModeloLogico.png)"
   ]
  },
  {
   "cell_type": "code",
   "execution_count": 2,
   "metadata": {},
   "outputs": [],
   "source": [
    "%defaultDatasource jdbc:h2:mem:db"
   ]
  },
  {
   "cell_type": "code",
   "execution_count": 13,
   "metadata": {},
   "outputs": [],
   "source": [
    "-- Criação das Tabelas e Importação dos Dados\n",
    "\n",
    "DROP TABLE IF EXISTS Paciente;\n",
    "DROP TABLE IF EXISTS RealizaDiagnostico;\n",
    "DROP TABLE IF EXISTS Diagnostico;\n",
    "\n",
    "CREATE TABLE Paciente (\n",
    "  id VARCHAR(6) NOT NULL,\n",
    "  age INT NOT NULL,\n",
    "  pregnancies  INT,\n",
    "  PRIMARY KEY(id)\n",
    ") AS SELECT\n",
    "    idPaciente,\n",
    "    Age,\n",
    "    Pregnancies\n",
    "FROM CSVREAD('sheets/Paciente.csv');\n",
    "\n",
    "CREATE TABLE Diagnostico (\n",
    "  id VARCHAR(6) NOT NULL,\n",
    "  glucose INT,\n",
    "  bloodPressure INT,\n",
    "  skinThickness INT,\n",
    "  insulin INT,\n",
    "  bmi FLOAT,\n",
    "  pedigreeFunction FLOAT,\n",
    "  outcome BOOLEAN,\n",
    "  PRIMARY KEY(id)\n",
    ") AS SELECT\n",
    "    idDiagnostico,\n",
    "    Glucose,\n",
    "    BloodPressure,\n",
    "    SkinThickness,\n",
    "    Insulin,\n",
    "    BMI,\n",
    "    DiabetesPedigreeFunction,\n",
    "    Outcome\n",
    "FROM CSVREAD('sheets/Diagnostico.csv');\n",
    "\n",
    "CREATE TABLE RealizaDiagnostico (\n",
    "  idPaciente VARCHAR(6) NOT NULL,\n",
    "  idDiagnostico VARCHAR(6) NOT NULL,\n",
    "  FOREIGN KEY(idPaciente)\n",
    "    REFERENCES Paciente(id)\n",
    "      ON DELETE NO ACTION\n",
    "      ON UPDATE NO ACTION,\n",
    "  FOREIGN KEY(idDiagnostico)\n",
    "    REFERENCES Diagnostico(id)\n",
    "      ON DELETE NO ACTION\n",
    "      ON UPDATE NO ACTION,\n",
    ") AS SELECT\n",
    "    idPacient,\n",
    "    idDiagnostico\n",
    "FROM CSVREAD('sheets/RealizaDiagnostico.csv');"
   ]
  },
  {
   "cell_type": "code",
   "execution_count": 15,
   "metadata": {},
   "outputs": [
    {
     "data": {
      "application/vnd.jupyter.widget-view+json": {
       "model_id": "7ebc3b43-767d-462c-a9bd-a56025863543",
       "version_major": 2,
       "version_minor": 0
      },
      "method": "display_data"
     },
     "metadata": {},
     "output_type": "display_data"
    }
   ],
   "source": [
    "SHOW TABLES;"
   ]
  },
  {
   "cell_type": "code",
   "execution_count": 26,
   "metadata": {},
   "outputs": [
    {
     "data": {
      "application/vnd.jupyter.widget-view+json": {
       "model_id": "2ee9c434-e25c-463b-a2d7-ecd8b29dd71e",
       "version_major": 2,
       "version_minor": 0
      },
      "method": "display_data"
     },
     "metadata": {},
     "output_type": "display_data"
    }
   ],
   "source": [
    "-- Pacientes que fizeram diagnóstico\n",
    "SELECT DISTINCT P.id, P.age\n",
    "FROM Paciente P, RealizaDiagnostico RD\n",
    "WHERE P.id = RD.idPaciente"
   ]
  },
  {
   "cell_type": "code",
   "execution_count": 18,
   "metadata": {},
   "outputs": [
    {
     "data": {
      "text/plain": [
       "33"
      ]
     },
     "execution_count": 18,
     "metadata": {},
     "output_type": "execute_result"
    }
   ],
   "source": [
    "-- Média de idade dos pacientes que fizeram diagnóstico\n",
    "SELECT AVG(P.age)\n",
    "FROM Paciente P, RealizaDiagnostico RD\n",
    "WHERE P.id = RD.idPaciente"
   ]
  },
  {
   "cell_type": "code",
   "execution_count": 21,
   "metadata": {},
   "outputs": [
    {
     "data": {
      "text/plain": [
       "35.14253731344829"
      ]
     },
     "execution_count": 21,
     "metadata": {},
     "output_type": "execute_result"
    }
   ],
   "source": [
    "-- Média do BMI dos pacientes que fizeram diagnóstico e foram diagnosticados com diabetes\n",
    "SELECT AVG(D.bmi)\n",
    "FROM Paciente P, RealizaDiagnostico RD, Diagnostico D\n",
    "WHERE P.id = RD.idPaciente\n",
    "    AND D.outcome = 1"
   ]
  },
  {
   "cell_type": "code",
   "execution_count": 23,
   "metadata": {},
   "outputs": [
    {
     "data": {
      "text/plain": [
       "70"
      ]
     },
     "execution_count": 23,
     "metadata": {},
     "output_type": "execute_result"
    }
   ],
   "source": [
    "-- Média da pressão sanguínea das pacientes que passaram por pelo menos 3 partos e foram diagnosticadas com diabetes\n",
    "SELECT AVG(D.bloodPressure)\n",
    "FROM Paciente P, RealizaDiagnostico RD, Diagnostico D\n",
    "WHERE P.id = RD.idPaciente\n",
    "    AND D.outcome = 1\n",
    "    AND P.pregnancies >= 3"
   ]
  },
  {
   "cell_type": "code",
   "execution_count": 25,
   "metadata": {},
   "outputs": [
    {
     "data": {
      "application/vnd.jupyter.widget-view+json": {
       "model_id": "964a4fbf-299b-4659-9a87-829cc0ff24f8",
       "version_major": 2,
       "version_minor": 0
      },
      "method": "display_data"
     },
     "metadata": {},
     "output_type": "display_data"
    }
   ],
   "source": [
    "-- Pacientes que tem idade acima de 50 anos, pressão maior que a da média e que não foram diagnosticados com diabetes\n",
    "SELECT DISTINCT P.id\n",
    "FROM Paciente P, RealizaDiagnostico RD, Diagnostico D\n",
    "WHERE P.id = RD.idPaciente\n",
    "    AND P.age > 50\n",
    "    AND D.outcome = 0\n",
    "    AND D.bloodPressure > SELECT AVG(SELECT AVG(D.bloodPressure)\n",
    "                                    FROM Paciente P, RealizaDiagnostico RD, Diagnostico D\n",
    "                                    WHERE P.id = RD.idPaciente\n",
    "                                    )"
   ]
  }
 ],
 "metadata": {
  "kernelspec": {
   "display_name": "SQL",
   "language": "SQL",
   "name": "sql"
  },
  "language_info": {
   "codemirror_mode": "sql",
   "file_extension": ".sql",
   "mimetype": "",
   "name": "SQL",
   "nbconverter_exporter": "",
   "version": ""
  }
 },
 "nbformat": 4,
 "nbformat_minor": 2
}
